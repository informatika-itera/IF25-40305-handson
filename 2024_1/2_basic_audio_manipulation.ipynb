{
 "cells": [
  {
   "cell_type": "markdown",
   "metadata": {},
   "source": [
    "# Basic Audio Manipulation\n",
    "\n",
    "## Mengimpor Library"
   ]
  },
  {
   "cell_type": "code",
   "execution_count": 1,
   "metadata": {},
   "outputs": [],
   "source": [
    "import matplotlib.pyplot as plt\n",
    "import numpy as np\n",
    "import wave\n",
    "import os"
   ]
  },
  {
   "cell_type": "code",
   "execution_count": 2,
   "metadata": {},
   "outputs": [],
   "source": [
    "file_path = os.path.join(os.getcwd(), 'data', 'harvard.wav')"
   ]
  },
  {
   "cell_type": "markdown",
   "metadata": {},
   "source": [
    "## Trimming Audio (Memotong Audio)\n",
    "\n",
    "### Membaca File Audio"
   ]
  },
  {
   "cell_type": "code",
   "execution_count": 3,
   "metadata": {},
   "outputs": [
    {
     "name": "stdout",
     "output_type": "stream",
     "text": [
      "Number of channels: 1 | Sample width: 2 | Frame rate: 22050 | Number of frames: 1323000\n",
      "Audio data shape: (1323000,)\n"
     ]
    }
   ],
   "source": [
    "with wave.open(file_path, 'r') as wav_file:\n",
    "    n_channels = wav_file.getnchannels()\n",
    "    sampwidth = wav_file.getsampwidth()\n",
    "    framerate = wav_file.getframerate()\n",
    "    n_frames = wav_file.getnframes()\n",
    "    audio_content = wav_file.readframes(n_frames)\n",
    "    audio_data = np.frombuffer(audio_content, dtype=np.int16)\n",
    "    \n",
    "    if n_channels > 1: # Apa yang terjadi jika baris 9 dan 10 dihilangkan?\n",
    "        audio_data = audio_data.reshape(-1, n_channels)\n",
    "    \n",
    "print(f\"Number of channels: {n_channels} | Sample width: {sampwidth} | Frame rate: {framerate} | Number of frames: {n_frames}\")\n",
    "print(f\"Audio data shape: {audio_data.shape}\")"
   ]
  },
  {
   "cell_type": "markdown",
   "metadata": {},
   "source": [
    "- **wave.open**: Membuka file audio untuk membaca (`'r'` mode).\n",
    "- **Atribut**:\n",
    "  - `n_channels`: Jumlah channel audio (misalnya, 1 untuk mono, 2 untuk stereo).\n",
    "  - `sampwidth`: Lebar sampel dalam byte (misalnya, 2 byte untuk audio 16-bit).\n",
    "  - `framerate`: Tingkat sampling, yang menunjukkan jumlah sampel per detik.\n",
    "  - `n_frames`: Jumlah total frame (sampel) dalam file audio.\n",
    "- **Membaca Frame**: `readframes(n_frames)` membaca semua frame dari file audio.\n",
    "- **Mengubah ke array numpy**: `np.frombuffer(audio_content, dtype=np.int16)` mengubah data byte menjadi array numpy dari integer 16-bit.\n",
    "- **Mereshape untuk multi-channel**: Jika audio memiliki lebih dari satu channel, data diubah menjadi array 2D di mana setiap kolom mewakili satu channel."
   ]
  },
  {
   "cell_type": "markdown",
   "metadata": {},
   "source": [
    "### Memotong File Audio"
   ]
  },
  {
   "cell_type": "code",
   "execution_count": 4,
   "metadata": {},
   "outputs": [
    {
     "name": "stdout",
     "output_type": "stream",
     "text": [
      "Start sample: 44100 | End sample: 110250\n"
     ]
    }
   ],
   "source": [
    "start_time = 2\n",
    "end_time = 5\n",
    "\n",
    "start_sample = int(start_time * framerate)\n",
    "end_sample = int(end_time * framerate)\n",
    "print(f\"Start sample: {start_sample} | End sample: {end_sample}\")\n",
    "audio_data_trimmed = audio_data[start_sample:end_sample]"
   ]
  },
  {
   "cell_type": "markdown",
   "metadata": {},
   "source": [
    "- **Print Informasi File**: Mencetak jumlah channel, lebar sampel, tingkat sampel, dan jumlah frame untuk file audio.\n",
    "- **Waktu Trim**: Mendefinisikan waktu mulai dan akhir untuk trimming (2 detik hingga 5 detik).\n",
    "- **Indeks Sampel**: Menghitung indeks sampel mulai dan akhir berdasarkan waktu mulai dan akhir.\n",
    "  - `start_sample = int(start_time * framerate)`\n",
    "  - `end_sample = int(end_time * framerate)`\n",
    "- **Trim Data Audio**: Mengekstrak sampel dari `start_sample` hingga `end_sample` untuk mendapatkan segmen audio yang telah di-trim."
   ]
  },
  {
   "cell_type": "markdown",
   "metadata": {},
   "source": [
    "### Visualisasi"
   ]
  },
  {
   "cell_type": "code",
   "execution_count": null,
   "metadata": {},
   "outputs": [],
   "source": [
    "time_axis_original = np.linspace(0, len(audio_data) / framerate, num=len(audio_data))\n",
    "time_axis_trimmed = np.linspace(start_time, end_time, num=len(audio_data_trimmed))\n",
    "\n",
    "fig, ax = plt.subplots(2, 1, figsize=(18, 6))\n",
    "ax[0].plot(time_axis_original, audio_data)\n",
    "ax[0].set_title('Original Audio')\n",
    "ax[0].set_xlabel('Time (s)')\n",
    "ax[0].set_ylabel('Amplitude')\n",
    "ax[1].plot(time_axis_trimmed, audio_data_trimmed)\n",
    "ax[1].set_title('Trimmed Audio')\n",
    "ax[1].set_xlabel('Time (s)')\n",
    "ax[1].set_ylabel('Amplitude')\n",
    "plt.tight_layout()\n",
    "plt.show()"
   ]
  },
  {
   "cell_type": "markdown",
   "metadata": {},
   "source": [
    "- **Sumbu Waktu**: Membuat sumbu waktu untuk data audio asli dan yang telah di-trim.\n",
    "  - `np.linspace` menghasilkan nilai yang terdistribusi secara linear sepanjang interval yang ditentukan.\n",
    "  - `time_axis_original`: Sumbu waktu untuk data audio asli.\n",
    "  - `time_axis_trimmed`: Sumbu waktu untuk data audio yang telah di-trim.\n",
    "- **Plotting**:\n",
    "  - `fig, ax = plt.subplots(2, 1, figsize=(18, 6))`: Membuat figure dengan dua subplot.\n",
    "  - **Plot Audio Asli**: Memplot gelombang audio asli.\n",
    "    - `ax[0].plot(time_axis_original, audio_data if n_channels == 1 else audio_data[:, 0])`: Memplot channel pertama jika multi-channel.\n",
    "  - **Plot Audio yang Telah Di-trim**: Memplot gelombang audio yang telah di-trim.\n",
    "    - `ax[1].plot(time_axis_trimmed, audio_data_trimmed if n_channels == 1 else audio_data_trimmed[:, 0])`: Memplot channel pertama jika multi-channel.\n",
    "  - Menambahkan judul, label, dan layout yang ketat untuk visualisasi yang lebih baik."
   ]
  },
  {
   "cell_type": "code",
   "execution_count": null,
   "metadata": {},
   "outputs": [],
   "source": [
    "print(f\"Audio Data Trimed Length: {len(audio_data_trimmed)} | Audio Data Length: {len(audio_data)}\")"
   ]
  },
  {
   "cell_type": "markdown",
   "metadata": {},
   "source": [
    "### Menyimpan File Audio"
   ]
  },
  {
   "cell_type": "code",
   "execution_count": null,
   "metadata": {},
   "outputs": [],
   "source": [
    "# Save the trimmed audio\n",
    "file_path_trimmed = os.path.join(os.getcwd(), 'output', 'harvard_trimmed.wav')\n",
    "\n",
    "with wave.open(file_path_trimmed, 'w') as wav_file:\n",
    "    wav_file.setnchannels(n_channels)\n",
    "    wav_file.setsampwidth(sampwidth)\n",
    "    wav_file.setframerate(framerate)\n",
    "    wav_file.setnframes(len(audio_data_trimmed))\n",
    "    wav_file.writeframes(audio_data_trimmed.tobytes())"
   ]
  },
  {
   "cell_type": "markdown",
   "metadata": {},
   "source": [
    "- **Path Output**: Menentukan path untuk file audio yang telah di-trim dan memastikan direktori output ada.\n",
    "- **wave.open untuk Menulis**: Membuka file `.wav` baru untuk menulis (`'w'` mode).\n",
    "- **Set Parameter Audio**: Menetapkan jumlah channel, lebar sampel, dan tingkat sampel untuk file baru agar sesuai dengan audio asli.\n",
    "- **Menulis Frame**: Menulis data audio yang telah di-trim ke file baru.\n",
    "  - `audio_data_trimmed.tobytes()`: Mengubah array numpy kembali ke byte sebelum menulis."
   ]
  },
  {
   "cell_type": "markdown",
   "metadata": {},
   "source": [
    "---\n",
    "## Fading Technique\n",
    "\n",
    "Sumber Wav: https://www2.cs.uic.edu/~i101/SoundFiles/ImperialMarch60.wav\n",
    "\n",
    "### Mempersiapkan Audio"
   ]
  },
  {
   "cell_type": "code",
   "execution_count": null,
   "metadata": {},
   "outputs": [],
   "source": [
    "file_path = os.path.join(os.getcwd(), 'data', 'ImperialMarch60.wav')\n",
    "\n",
    "with wave.open(file_path, 'r') as wav_file:\n",
    "    n_channels = wav_file.getnchannels()\n",
    "    sampwidth = wav_file.getsampwidth()\n",
    "    framerate = wav_file.getframerate()\n",
    "    n_frames = wav_file.getnframes()\n",
    "    audio_content = wav_file.readframes(n_frames)\n",
    "    audio_data = np.frombuffer(audio_content, dtype=np.int16)\n",
    "    \n",
    "    if n_channels > 1:\n",
    "        audio_data = audio_data.reshape(-1, n_channels)"
   ]
  },
  {
   "cell_type": "code",
   "execution_count": null,
   "metadata": {},
   "outputs": [],
   "source": [
    "# trim audio_data from 0 to 30 karena bagian akhir audio memiliki amplitude yang kecil\n",
    "start_time = 0\n",
    "end_time = 30\n",
    "\n",
    "start_sample = int(start_time * framerate)\n",
    "end_sample = int(end_time * framerate)\n",
    "\n",
    "audio_data = audio_data[start_sample:end_sample]"
   ]
  },
  {
   "cell_type": "markdown",
   "metadata": {},
   "source": [
    "Pertama-tama kita baca dahulu file audio dengan `wave`. Dalam kasus ini, kita akan menggunakan lagu \"Imperial March\" dari Star Wars. Kita hanya menggunakan 30 detik pertama dari audio ini"
   ]
  },
  {
   "cell_type": "markdown",
   "metadata": {},
   "source": [
    "### Menghitung Jumlah Sampel untuk Fade"
   ]
  },
  {
   "cell_type": "code",
   "execution_count": null,
   "metadata": {},
   "outputs": [],
   "source": [
    "# Set fade-in and fade-out durations\n",
    "fade_in_duration = 10.0  # seconds\n",
    "fade_out_duration = 10.0  # seconds\n",
    "\n",
    "# Calculate the number of samples for fade-in and fade-out\n",
    "fade_in_samples = int(fade_in_duration * framerate)\n",
    "fade_out_samples = int(fade_out_duration * framerate)\n"
   ]
  },
  {
   "cell_type": "markdown",
   "metadata": {},
   "source": [
    "- **fade_in_samples**: Menghitung jumlah sampel untuk efek fade-in dengan mengalikan durasi fade-in dengan laju frame.\n",
    "- **fade_out_samples**: Menghitung jumlah sampel untuk efek fade-out dengan mengalikan durasi fade-out dengan laju frame."
   ]
  },
  {
   "cell_type": "markdown",
   "metadata": {},
   "source": [
    "### Membuat Kurva Fade Linier"
   ]
  },
  {
   "cell_type": "code",
   "execution_count": null,
   "metadata": {},
   "outputs": [],
   "source": [
    "\n",
    "# Create linear fade-in and fade-out curves\n",
    "fade_in_curve = np.linspace(0, 1, fade_in_samples)\n",
    "fade_out_curve = np.linspace(1, 0, fade_out_samples)\n"
   ]
  },
  {
   "cell_type": "code",
   "execution_count": null,
   "metadata": {},
   "outputs": [],
   "source": [
    "# visualize the fade-in and fade-out curves\n",
    "plt.figure(figsize=(20, 5))\n",
    "plt.plot(fade_in_curve, label='Fade-in Curve')\n",
    "plt.plot(fade_out_curve, label='Fade-out Curve')\n",
    "plt.xlabel('Sample')\n",
    "plt.ylabel('Amplitude')\n",
    "plt.title('Fade-in and Fade-out Curves')\n",
    "plt.legend()\n",
    "plt.show()"
   ]
  },
  {
   "cell_type": "markdown",
   "metadata": {},
   "source": [
    "- **np.linspace(0, 1, fade_in_samples)**: Menghasilkan array linier dari 0 hingga 1 dengan `fade_in_samples` elemen untuk efek fade-in.\n",
    "- **np.linspace(1, 0, fade_out_samples)**: Menghasilkan array linier dari 1 hingga 0 dengan `fade_out_samples` elemen untuk efek fade-out."
   ]
  },
  {
   "cell_type": "markdown",
   "metadata": {},
   "source": [
    "### Menerapkan Fade-in"
   ]
  },
  {
   "cell_type": "code",
   "execution_count": null,
   "metadata": {},
   "outputs": [],
   "source": [
    "audio_data_copy = audio_data.copy()\n",
    "audio_data_copy[:fade_in_samples] = audio_data_copy[:fade_in_samples] * fade_in_curve[:, np.newaxis] if n_channels > 1 else audio_data_copy[:fade_in_samples] * fade_in_curve\n",
    "audio_data_copy[-fade_out_samples:] = audio_data_copy[-fade_out_samples:] * fade_out_curve[:, np.newaxis] if n_channels > 1 else audio_data_copy[-fade_out_samples:] * fade_out_curve\n"
   ]
  },
  {
   "cell_type": "markdown",
   "metadata": {},
   "source": [
    "- **audio_data[:fade_in_samples]**: Memilih segmen awal data audio yang sama dengan jumlah sampel fade-in.\n",
    "- **audio_data[:fade_in_samples] * fade_in_curve[:, np.newaxis]**: Mengalikan segmen yang dipilih dengan kurva fade-in. Bagian `[:, np.newaxis]` memastikan broadcasting yang benar untuk audio multi-channel.\n",
    "- **if n_channels > 1 else audio_data[:fade_in_samples] * fade_in_curve**: Menerapkan efek fade-in secara berbeda tergantung pada apakah audio mono atau multi-channel.\n",
    "- **audio_data[-fade_out_samples:]**: Memilih segmen akhir data audio yang sama dengan jumlah sampel fade-out.\n",
    "- **audio_data[-fade_out_samples:] * fade_out_curve[:, np.newaxis]**: Mengalikan segmen yang dipilih dengan kurva fade-out. Bagian `[:, np.newaxis]` memastikan broadcasting yang benar untuk audio multi-channel.\n",
    "- **if n_channels > 1 else audio_data[-fade_out_samples:] * fade_out_curve**: Menerapkan efek fade-out secara berbeda tergantung pada apakah audio mono atau multi-channel."
   ]
  },
  {
   "cell_type": "code",
   "execution_count": null,
   "metadata": {},
   "outputs": [],
   "source": [
    "time_axis = np.linspace(0, len(audio_data) / framerate, num=len(audio_data))\n",
    "\n",
    "# Compare the original and modified audio data\n",
    "fig, ax = plt.subplots(2, 1, figsize=(20, 6))\n",
    "ax[0].plot(time_axis, audio_data_copy)\n",
    "ax[0].set_title('Modified Audio')\n",
    "ax[0].set_xlabel('Time (s)')\n",
    "ax[0].set_ylabel('Amplitude')\n",
    "ax[1].plot(time_axis, audio_data)\n",
    "ax[1].set_title('Original Audio')\n",
    "ax[1].set_xlabel('Time (s)')\n",
    "ax[1].set_ylabel('Amplitude')\n",
    "plt.tight_layout()\n",
    "plt.show()"
   ]
  },
  {
   "cell_type": "code",
   "execution_count": null,
   "metadata": {},
   "outputs": [],
   "source": [
    "# Save the audio data with fade-in and fade-out\n",
    "output_path = os.path.join(os.getcwd(), 'output', 'ImperialMarch60_fade.wav')\n",
    "os.makedirs(os.path.dirname(output_path), exist_ok=True)\n",
    "\n",
    "with wave.open(output_path, 'w') as wav_file:\n",
    "    wav_file.setnchannels(n_channels)\n",
    "    wav_file.setsampwidth(sampwidth)\n",
    "    wav_file.setframerate(framerate)\n",
    "    wav_file.writeframes(audio_data_copy.tobytes())"
   ]
  },
  {
   "cell_type": "markdown",
   "metadata": {},
   "source": [
    "---\n",
    "\n",
    "## Tugas: `ho1`\n",
    "2. Tanyalah kepada AI-LLM bagaimana membuat teknik fading yang non linear. Implementasikan hal tersebut. Jangan lupa copy/paste hasil percakapan anda dengan AI LLM ke notebook anda.\n",
    "    - Untuk mahasiswa ber-nim akhir ganjil, implementasikan teknik fading Logarithmic Scale Fading\n",
    "    - Untuk mahasiswa ber-nim akhir genap, implementasikan teknik fading Exponential\n",
    "    - Lakukan fading untuk bagian awal dan akhir dari audio\n",
    "\n",
    "### Ketentuan Penamaan File\n",
    "```\n",
    "nim_ho1.ipynb\n",
    "```\n",
    "\n",
    "> Saya sudah mendapatkan akses ke server [MOSS Stanford](https://theory.stanford.edu/~aiken/moss/) untuk menggunakan sistem mereka dalam mata kuliah ini untuk mendeteksi code yang \"plagiat\". Untuk menjamin bahwa code anda tidak terindikasi plagiarisme, silahkan gunakan nama variabel / parameter / dan konfigurasi yang unik dan tidak copy paste. Dan yang terpenting, berusahalah bekerja sendiri. Jika mendapat bantuan baik dari manusia maupun AI / web, segera cantumkan dalam bagian terakhir `ipynb` anda.\n",
    "\n",
    "### Pengumpulan\n",
    "- Unggah `.ipynb` ke repositori anda.\n",
    "- Paste link dari file ke google form pengumpulan tugas\n",
    "- Export `.ipynb` menjadi `.pdf` dan unggah juga ke google form\n",
    "\n",
    "Link yang di paste harus mirip dengan format berikut:\n",
    "```\n",
    "https://github.com/<username>/<kode_mk>/blob/master/<nim_ho1>.ipynb\n",
    "```\n",
    "\n",
    "- *Pastikan repo anda bersifat privat dan anda telah mengundang dosen pengampu ke repositori anda*\n",
    "- Seluruh tugas untuk ho1 digabung dalam satu file notebook `.ipynb`\n",
    "- Berikan penjelasan yang sedetail-detailnya untuk setiap bagian eksperimen yang anda lakukan\n",
    "\n"
   ]
  }
 ],
 "metadata": {
  "kernelspec": {
   "display_name": "py310_ifcourse",
   "language": "python",
   "name": "python3"
  },
  "language_info": {
   "codemirror_mode": {
    "name": "ipython",
    "version": 3
   },
   "file_extension": ".py",
   "mimetype": "text/x-python",
   "name": "python",
   "nbconvert_exporter": "python",
   "pygments_lexer": "ipython3",
   "version": "3.10.14"
  }
 },
 "nbformat": 4,
 "nbformat_minor": 2
}
