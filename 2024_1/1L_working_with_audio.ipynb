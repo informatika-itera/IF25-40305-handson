{
 "cells": [
  {
   "cell_type": "markdown",
   "metadata": {},
   "source": [
    "# Bekerja dengan Audio di Python\n",
    "\n",
    "## Pendahuluan\n",
    "\n",
    "Di hands-on ini, kita akan belajar bagaimana cara bekerja dengan audio menggunakan Python.\n",
    "- Pastikan environment yang aktif di jupyter notebook ini sudah sesuai\n",
    "\n",
    "## Import Library"
   ]
  },
  {
   "cell_type": "code",
   "execution_count": null,
   "metadata": {},
   "outputs": [],
   "source": [
    "# Jika belum menginstall dari terminal / anaconda prompt.\n",
    "# Dapat gunakan cara ini untuk menginstall langsung dari notebook\n",
    "!pip install matplotlib numpy wave"
   ]
  },
  {
   "cell_type": "code",
   "execution_count": 2,
   "metadata": {},
   "outputs": [],
   "source": [
    "import matplotlib.pyplot as plt\n",
    "import numpy as np\n",
    "import os\n",
    "import wave"
   ]
  },
  {
   "cell_type": "markdown",
   "metadata": {},
   "source": [
    "**Penjelasan:**\n",
    "- `matplotlib.pyplot` digunakan untuk plotting data, misalnya plot grafik.\n",
    "- `numpy` digunakan untuk operasi vektor dan matriks.\n",
    "- `os` adalah modul yang menyediakan fungsi untuk berinteraksi dengan sistem operasi.\n",
    "- `wave` adalah modul yang menyediakan fungsi untuk membaca dan menulis file audio WAV."
   ]
  },
  {
   "cell_type": "markdown",
   "metadata": {},
   "source": [
    "## Memuat File Audio yang di download\n",
    "\n",
    "Sumber audio .wav didapat dari : [tautan kaggle berikut ini](https://www.kaggle.com/datasets/pavanelisetty/sample-audio-files-for-speech-recognition?resource=download)"
   ]
  },
  {
   "cell_type": "code",
   "execution_count": 3,
   "metadata": {},
   "outputs": [],
   "source": [
    "file_path = os.path.join(os.getcwd(), 'data', 'harvard.wav')\n",
    "\n",
    "# check jika file tidak ada\n",
    "if not os.path.exists(file_path):\n",
    "    print('File tidak ditemukan')\n",
    "    exit()"
   ]
  },
  {
   "cell_type": "markdown",
   "metadata": {},
   "source": [
    "#### Menggunakan `wave` untuk membuka file audio yang di download.\n",
    "\n",
    "**Apa Itu Waveform?**\n",
    "\n",
    "**Waveform** adalah representasi visual dari gelombang suara atau sinyal audio dalam domain waktu. Dalam grafik waveform, sumbu horizontal (x) biasanya mewakili waktu, sedangkan sumbu vertikal (y) mewakili amplitudo sinyal audio pada waktu tertentu. Dengan kata lain, waveform menunjukkan bagaimana amplitudo suara berubah seiring berjalannya waktu.\n",
    "\n",
    "Waveform memberikan informasi penting tentang karakteristik audio, seperti:\n",
    "- **Amplitudo**: Ketinggian atau intensitas gelombang suara. Amplitudo tinggi biasanya terkait dengan suara yang lebih keras.\n",
    "- **Frekuensi**: Jumlah siklus gelombang per detik. Meskipun waveform sendiri tidak langsung menunjukkan frekuensi, pola-pola dalam waveform bisa memberikan indikasi tentang frekuensi sinyal.\n",
    "- **Durasi**: Panjang waktu sinyal audio.\n",
    "\n",
    "**Tentang Package `wave`**\n",
    "\n",
    "`import wave` adalah modul dalam Python yang digunakan untuk membaca dan menulis file audio dalam format WAV. Format WAV adalah format audio yang tidak terkompresi, yang berarti data audio disimpan dalam bentuk aslinya tanpa pengurangan kualitas."
   ]
  },
  {
   "cell_type": "code",
   "execution_count": 4,
   "metadata": {},
   "outputs": [],
   "source": [
    "with wave.open(file_path, 'r') as wav_file:                 # membuka file wav\n",
    "    frames = wav_file.readframes(-1)                        # membaca semua frame\n",
    "    sound_data = np.frombuffer(frames, dtype=np.int16)      # mengubah frame ke array numpy\n",
    "    frame_rate = wav_file.getframerate()                    # mendapatkan sample rate"
   ]
  },
  {
   "cell_type": "code",
   "execution_count": null,
   "metadata": {},
   "outputs": [],
   "source": [
    "print(f\"Isi dari sound_data: {sound_data}\")\n",
    "print(f\"Panjang dari sound_data: {len(sound_data)}\")\n",
    "print(f\"Isi data pada elemen ke 500000 - 500020: {sound_data[500000:500020]}\")\n",
    "print(f\"Sample rate: {frame_rate}\")"
   ]
  },
  {
   "cell_type": "markdown",
   "metadata": {},
   "source": [
    "#### Memvisualisasikan file audio yang di download."
   ]
  },
  {
   "cell_type": "code",
   "execution_count": null,
   "metadata": {},
   "outputs": [],
   "source": [
    "time_axis = np.linspace(0, len(sound_data) / frame_rate, num=len(sound_data))\n",
    "\n",
    "# menampilkan plot dengan matplotlib\n",
    "plt.figure(figsize=(18, 4))\n",
    "\n",
    "# Buat judul \"Visualisasi Audio\"\n",
    "plt.title('Visualisasi Audio', fontsize=16)\n",
    "plt.plot(time_axis, sound_data)\n",
    "plt.xlabel('Waktu (detik)')\n",
    "plt.ylabel('Amplitudo')\n",
    "# Menampilkan grid yang halus\n",
    "plt.grid(linestyle='-', linewidth=0.5)\n",
    "plt.show()\n"
   ]
  }
 ],
 "metadata": {
  "kernelspec": {
   "display_name": "py310_multimedia",
   "language": "python",
   "name": "python3"
  },
  "language_info": {
   "codemirror_mode": {
    "name": "ipython",
    "version": 3
   },
   "file_extension": ".py",
   "mimetype": "text/x-python",
   "name": "python",
   "nbconvert_exporter": "python",
   "pygments_lexer": "ipython3",
   "version": "3.10.14"
  }
 },
 "nbformat": 4,
 "nbformat_minor": 2
}
