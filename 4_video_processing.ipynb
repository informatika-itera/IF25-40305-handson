{
 "cells": [
  {
   "cell_type": "code",
   "execution_count": 1,
   "metadata": {},
   "outputs": [],
   "source": [
    "import os\n",
    "from glob import glob\n",
    "import cv2\n",
    "import numpy as np\n",
    "import matplotlib.pyplot as plt\n",
    "import dlib"
   ]
  },
  {
   "cell_type": "markdown",
   "metadata": {},
   "source": [
    "## Prerequisites: Merekam Video\n",
    "> Ajaklah teman / keluarga anda untuk membantu dalam proses perekaman ini\n",
    "\n",
    "1. Rekamlah sebuah video yang berdurasi kira-kira 60 detik dengan kamera ponsel. Toleransi durasi adalah 63 detik.\n",
    "2. Resolusi video haruslah tepat 1920x1080 dengan FPS 30.\n",
    "3. Gunakan tripod / phone holder agar video tetap stabil\n",
    "4. Lihat contoh gambar untuk posisi framing yang benar\n",
    "\n",
    "<img src=\"data/sample_toby.jpg\" alt=\"Contoh Framing\" style=\"width:30%;\">\n",
    "\n",
    "5. Pastikan merekam dalam kondisi pencahayaan yang cukup (cahaya alami matahari lebih disarankan)\n",
    "6. Anda harus duduk dengan tegak dan bersandar di kursi dan berada di tengah frame. Letakkan kedua tangan di atas lutut anda.\n",
    "7. Selama perekaman, mintalah teman / keluarga anda untuk menghitung berapa kali anda bernafas selama 60 detik. Bukan hanya sekedar menghitung, teman / keluarga anda harus mencatat pada detik keberapa anda mulai menghembuskan nafas. Oleh karena itu, pastikan teman / keluarga anda menggunakan stopwatch pada HP mereka. (Tekan `LAP` setiap kali anda mulai menghembuskan nafas)\n",
    "8. Pindahkan catatan tersebut ke dalam `csv` dengan format sebagai berikut:\n",
    "```\n",
    "| nafas-ke | detik | milidetik |\n",
    "| -------- | ----- | --------- |\n",
    "| 3        | 0     | 234       |\n",
    "| 2        | 1     | 897       |\n",
    "| dst      | dst   | dst       |\n",
    "|          |       |           |\n",
    "```"
   ]
  },
  {
   "cell_type": "markdown",
   "metadata": {},
   "source": [
    "## Image vs Video\n",
    "\n",
    "### Membuat video dari gambar (image sequence)"
   ]
  },
  {
   "cell_type": "markdown",
   "metadata": {},
   "source": [
    "Definisikan lokasi direktori dari gambar yang akan dijadikan video."
   ]
  },
  {
   "cell_type": "code",
   "execution_count": 8,
   "metadata": {},
   "outputs": [
    {
     "name": "stdout",
     "output_type": "stream",
     "text": [
      "5 path pertama: ['/Users/martinmanullang/Developer/if4021-handson/data/toby-rgb/1724_20230130_092547_475115.jpg', '/Users/martinmanullang/Developer/if4021-handson/data/toby-rgb/446_20230130_092504_883054.jpg', '/Users/martinmanullang/Developer/if4021-handson/data/toby-rgb/507_20230130_092506_915114.jpg', '/Users/martinmanullang/Developer/if4021-handson/data/toby-rgb/1682_20230130_092546_083114.jpg', '/Users/martinmanullang/Developer/if4021-handson/data/toby-rgb/1783_20230130_092549_451324.jpg']\n"
     ]
    }
   ],
   "source": [
    "IMGS_PATH = (os.path.join(os.getcwd(), 'data', 'toby-rgb'))\n",
    "list_imgs = glob(IMGS_PATH + '/*.jpg')\n",
    "print(f\"5 path pertama: {list_imgs[:5]}\")"
   ]
  },
  {
   "cell_type": "markdown",
   "metadata": {},
   "source": [
    "Jangan lupa, jika bekerja dengan image sequence, pastikan urutan nama file sudah sesuai. Bila perlu, lakukan sorting"
   ]
  },
  {
   "cell_type": "code",
   "execution_count": 9,
   "metadata": {},
   "outputs": [
    {
     "name": "stdout",
     "output_type": "stream",
     "text": [
      "5 path pertama setelah diurutkan: ['/Users/martinmanullang/Developer/if4021-handson/data/toby-rgb/0_20230130_092450_022080.jpg', '/Users/martinmanullang/Developer/if4021-handson/data/toby-rgb/1_20230130_092450_051002.jpg', '/Users/martinmanullang/Developer/if4021-handson/data/toby-rgb/2_20230130_092450_083041.jpg', '/Users/martinmanullang/Developer/if4021-handson/data/toby-rgb/3_20230130_092450_115060.jpg', '/Users/martinmanullang/Developer/if4021-handson/data/toby-rgb/4_20230130_092450_147023.jpg']\n",
      "Total jumlah gambar: 1800\n"
     ]
    }
   ],
   "source": [
    "list_imgs = sorted(list_imgs, key=lambda x: int(x.split('/')[-1].split('.')[0]))\n",
    "print(f\"5 path pertama setelah diurutkan: {list_imgs[:5]}\")\n",
    "print(f\"Total jumlah gambar: {len(list_imgs)}\")"
   ]
  },
  {
   "cell_type": "markdown",
   "metadata": {},
   "source": [
    "**Tugas Hands-on 3**\n",
    "1. Jelaskan maksud dari `list_imgs = sorted(list_imgs, key=lambda x: int(x.split('/')[-1].split('.')[0]))`"
   ]
  },
  {
   "cell_type": "markdown",
   "metadata": {},
   "source": [
    "Memuat semua gambar yang ada di dalam `list_imgs` ke dalam numpy array. Setiap gambar akan diubah menjadi array 3 dimensi (RGB)."
   ]
  },
  {
   "cell_type": "code",
   "execution_count": 10,
   "metadata": {},
   "outputs": [
    {
     "ename": "KeyboardInterrupt",
     "evalue": "",
     "output_type": "error",
     "traceback": [
      "\u001b[0;31m---------------------------------------------------------------------------\u001b[0m",
      "\u001b[0;31mKeyboardInterrupt\u001b[0m                         Traceback (most recent call last)",
      "Cell \u001b[0;32mIn[10], line 3\u001b[0m\n\u001b[1;32m      1\u001b[0m images \u001b[38;5;241m=\u001b[39m []\n\u001b[1;32m      2\u001b[0m \u001b[38;5;28;01mfor\u001b[39;00m img_path \u001b[38;5;129;01min\u001b[39;00m list_imgs:\n\u001b[0;32m----> 3\u001b[0m     img \u001b[38;5;241m=\u001b[39m \u001b[43mcv2\u001b[49m\u001b[38;5;241;43m.\u001b[39;49m\u001b[43mimread\u001b[49m\u001b[43m(\u001b[49m\u001b[43mimg_path\u001b[49m\u001b[43m)\u001b[49m\n\u001b[1;32m      4\u001b[0m     images\u001b[38;5;241m.\u001b[39mappend(img)\n\u001b[1;32m      6\u001b[0m images_array \u001b[38;5;241m=\u001b[39m np\u001b[38;5;241m.\u001b[39marray(images)\n",
      "\u001b[0;31mKeyboardInterrupt\u001b[0m: "
     ]
    }
   ],
   "source": [
    "images = []\n",
    "for img_path in list_imgs:\n",
    "    img = cv2.imread(img_path)\n",
    "    images.append(img)\n",
    "\n",
    "images_array = np.array(images)\n",
    "\n",
    "print(f\"Shape of images_array: {images_array.shape}\")"
   ]
  },
  {
   "cell_type": "markdown",
   "metadata": {},
   "source": [
    "Dapat kita amati bahwa ukuran dari `images_array` adalah berformat `(jumlah gambar, tinggi, lebar, channel)` atau umumnya ditulis `(t, h, w, c)`\n",
    "\n",
    "Sekarang, mari kita buat sebuah video dari image sequence yang telah kita muat ke dalam `images_array`.\n",
    "\n",
    "> Warning!\n",
    "> Mungkin komputer Anda akan kehabisan memori jika jumlah gambar yang dijadikan video terlalu banyak. Jika hal ini terjadi, Anda bisa mengurangi jumlah gambar yang dijadikan video atau menggunakan komputer dengan spesifikasi yang lebih tinggi."
   ]
  },
  {
   "cell_type": "code",
   "execution_count": null,
   "metadata": {},
   "outputs": [],
   "source": [
    "save_loc = os.path.join(os.getcwd(), 'data', 'toby-rgb.mp4')\n",
    "fourcc = cv2.VideoWriter_fourcc(*'mp4v')\n",
    "height, width, layers = images_array[0].shape\n",
    "video = cv2.VideoWriter(save_loc, fourcc, 1, (width, height))\n",
    "\n",
    "for image in images_array:\n",
    "    video.write(image)\n",
    "\n",
    "video.release()\n",
    "\n",
    "print(\"Video berhasil dibuat.\")"
   ]
  },
  {
   "cell_type": "markdown",
   "metadata": {},
   "source": [
    "**Tugas Hands-on 3**\n",
    "\n",
    "2. Jelaskan tentang bagian kode berikut:\n",
    "    ```python\n",
    "    fourcc = cv2.VideoWriter_fourcc(*'mp4v')\n",
    "    ```\n",
    "\n",
    "    Apakah ada opsi lain selain `mp4v`? Jika ada, coba gunakan dan jelaskan."
   ]
  },
  {
   "cell_type": "markdown",
   "metadata": {},
   "source": [
    "---\n",
    "### Menyimpan setiap frame pada video menjadi gambar\n",
    "\n",
    "Setelah anda berhasil membuat video dari image sequence, sekarang kita akan mencoba menyimpan setiap frame pada video menjadi gambar.\n",
    "Pada eksperimen anda sendiri di rumah, mungkin anda perlu menjalankan bagian ini terlebih dahulu apabila sumber data anda adalah video dan anda belum memiliki image sequence."
   ]
  },
  {
   "cell_type": "code",
   "execution_count": null,
   "metadata": {},
   "outputs": [],
   "source": [
    "VID_PATH = os.path.join(os.getcwd(), 'data', 'toby-rgb.mp4')\n",
    "IMGSEQ_PATH = os.path.join(os.getcwd(), 'data', 'toby-rgb-imgseq')\n",
    "\n",
    "if not os.path.exists(IMGSEQ_PATH):\n",
    "    os.makedirs(IMGSEQ_PATH)\n",
    "\n",
    "cap = cv2.VideoCapture(VID_PATH)\n",
    "frame_count = 0\n",
    "\n",
    "while frame_count < 100:\n",
    "    ret, frame = cap.read()\n",
    "    if not ret:\n",
    "        break\n",
    "    cv2.imwrite(os.path.join(IMGSEQ_PATH, f'frame_{frame_count:03d}.jpg'), frame)\n",
    "    frame_count += 1\n",
    "\n",
    "cap.release()\n",
    "print(\"100 frame pertama berhasil disimpan.\")"
   ]
  },
  {
   "cell_type": "markdown",
   "metadata": {},
   "source": [
    "**Tugas Hands-on 3**\n",
    "\n",
    "3. Membuat video dengan FPS yang lebih rendah.\n",
    "    - Dengan menggunakan video, simpanlah frame gambar setiap 3 frame. Begini ilustrasinya, jika ada frame 1 s/d 30, maka anda hanya perlu menyimpan frame 1, 4, 7, 10, 13, 16, 19, 22, 25, 28.\n",
    "    - Dengan analogi ini, artinya anda mengurangi FPS-nya. Berapakah FPS yang baru?\n",
    "    - Untuk setiap gambar, convertlah ke dalam format grayscale dan resize menjadi 1280 x 720.\n",
    "    - Untuk setiap gambar, berikanlah titik merah (ukuran bebas, namun terlihat ketika video diputar). Titik tersebut bergerak dari kiri ke kanan untuk setiap frame. Titik tersebut harus sampai di ujung kanan gambar pada frame terakhir. Anda harus melakukan ini secara manual dengan memanipulasi matriks (tidak boleh pakai fungsi / library yang sudah ada)\n",
    "    - Ingat, karena ini titik merah, maka channel warna pada video anda haruslah RGB (walaupun gambarnya telah menjadi grayscale).\n",
    "    - Save video tersebut dengan nama `video_low_fps.mp4`"
   ]
  },
  {
   "cell_type": "markdown",
   "metadata": {},
   "source": [
    "## Deteksi Wajah dengan dlib\n",
    "\n",
    "### Instalasi dlib\n",
    "\n",
    "Silahkan lihat [panduan ini](instalasi_dlib.md)"
   ]
  },
  {
   "cell_type": "markdown",
   "metadata": {},
   "source": [
    "### Memindahkan data video ke dalam numpy array\n",
    "\n",
    "Pertama-tama kita akan memindahkan data video ke dalam numpy array. Kita akan menggunakan `cv2.VideoCapture` untuk membaca video."
   ]
  },
  {
   "cell_type": "code",
   "execution_count": null,
   "metadata": {},
   "outputs": [],
   "source": [
    "VID_PATH = os.path.join(os.getcwd(), 'data', 'toby-rgb.mp4')\n",
    "\n",
    "cap = cv2.VideoCapture(VID_PATH)\n",
    "frames = []\n",
    "while True:\n",
    "    ret, frame = cap.read()\n",
    "    if not ret:\n",
    "        break\n",
    "    frames.append(frame)\n",
    "\n",
    "frames_array = np.array(frames)\n",
    "cap.release()\n",
    "\n",
    "print(f\"Shape of frames_array: {frames_array.shape}\")"
   ]
  },
  {
   "cell_type": "markdown",
   "metadata": {},
   "source": [
    "Ambil satu gambar sebagai contoh"
   ]
  },
  {
   "cell_type": "code",
   "execution_count": null,
   "metadata": {},
   "outputs": [],
   "source": [
    "single_img = frames_array[0].copy()\n",
    "plt.figure(figsize=(5, 5))\n",
    "plt.imshow(single_img)\n",
    "plt.axis('off')\n",
    "plt.show()"
   ]
  },
  {
   "cell_type": "markdown",
   "metadata": {},
   "source": [
    "Tampaknya kita perlu mengubah warna gambar dari BGR menjadi RGB."
   ]
  },
  {
   "cell_type": "code",
   "execution_count": null,
   "metadata": {},
   "outputs": [],
   "source": [
    "frames_array_rgb = np.array([cv2.cvtColor(frame, cv2.COLOR_BGR2RGB) for frame in frames_array])\n",
    "print(f\"Shape of frames_array_rgb: {frames_array_rgb.shape}\")"
   ]
  },
  {
   "cell_type": "code",
   "execution_count": null,
   "metadata": {},
   "outputs": [],
   "source": [
    "single_img = frames_array_rgb[1].copy()\n",
    "plt.figure(figsize=(5, 5))\n",
    "plt.imshow(single_img)\n",
    "plt.axis('off')\n",
    "plt.show()"
   ]
  },
  {
   "cell_type": "markdown",
   "metadata": {},
   "source": [
    "Deteksi dengan dlib"
   ]
  },
  {
   "cell_type": "code",
   "execution_count": null,
   "metadata": {},
   "outputs": [],
   "source": [
    "detector = dlib.get_frontal_face_detector()\n",
    "\n",
    "faces = detector(single_img, 1)\n",
    "for i, face in enumerate(faces): # untuk setiap wajah yang terdeteksi (bisa saja lebih dari satu)\n",
    "    x, y, w, h = face.left(), face.top(), face.width(), face.height()\n",
    "    x2 = x + w\n",
    "    y2 = y + h\n",
    "    cv2.rectangle(single_img, (x, y), (x2, y2), (255, 0, 0), 5)\n",
    "\n",
    "plt.figure(figsize=(5, 5))\n",
    "plt.imshow(single_img)\n",
    "plt.axis('off')\n",
    "plt.show()"
   ]
  },
  {
   "cell_type": "markdown",
   "metadata": {},
   "source": [
    "```python\n",
    "faces = detector(single_img, 1)\n",
    "```\n",
    "- **`detector(single_img, 1)`**: Ini menggunakan `dlib` face detector (`detector`), yang akan mendeteksi wajah pada gambar `single_img`.\n",
    "  - `single_img`: Ini adalah gambar input yang ingin dideteksi wajahnya.\n",
    "  - `1`: Ini adalah parameter opsional yang menentukan jumlah piramida gambar yang digunakan oleh algoritma deteksi wajah. Nilai `1` berarti algoritma akan menggunakan piramida untuk mencari wajah dalam berbagai ukuran.\n",
    "- **`faces`**: Variabel ini menyimpan hasil deteksi wajah. Ini adalah sebuah list yang berisi objek bounding box untuk setiap wajah yang ditemukan pada gambar. Jika ada lebih dari satu wajah, `faces` akan berisi beberapa item.\n",
    "\n",
    "```python\n",
    "for i, face in enumerate(faces):\n",
    "```\n",
    "- **`for i, face in enumerate(faces)`**: Ini adalah loop yang akan berjalan sebanyak jumlah wajah yang terdeteksi.\n",
    "  - **`enumerate(faces)`**: `enumerate` memberikan dua nilai untuk setiap iterasi loop: \n",
    "    - `i`: Indeks dari wajah yang terdeteksi (dimulai dari 0).\n",
    "    - `face`: Objek bounding box dari setiap wajah yang terdeteksi. Objek ini memiliki koordinat posisi wajah dalam gambar.\n",
    "\n",
    "```python\n",
    "x, y, w, h = face.left(), face.top(), face.width(), face.height()\n",
    "```\n",
    "- **`face.left()`**: Mengambil koordinat x dari tepi kiri kotak pembatas (bounding box) wajah.\n",
    "- **`face.top()`**: Mengambil koordinat y dari tepi atas kotak pembatas wajah.\n",
    "- **`face.width()`**: Mengambil lebar bounding box wajah.\n",
    "- **`face.height()`**: Mengambil tinggi bounding box wajah.\n",
    "- **`x, y, w, h`**: Variabel ini menyimpan posisi dan ukuran dari bounding box wajah yang terdeteksi, di mana:\n",
    "  - `x`: Koordinat x dari sudut kiri atas wajah.\n",
    "  - `y`: Koordinat y dari sudut kiri atas wajah.\n",
    "  - `w`: Lebar bounding box wajah.\n",
    "  - `h`: Tinggi bounding box wajah.\n",
    "\n",
    "```python\n",
    "x2 = x + w\n",
    "```\n",
    "- **`x2 = x + w`**: Menghitung koordinat x dari sudut kanan bawah bounding box. Ini didapat dengan menjumlahkan nilai `x` (koordinat kiri atas) dengan `w` (lebar bounding box).\n",
    "\n",
    "```python\n",
    "y2 = y + h\n",
    "```\n",
    "- **`y2 = y + h`**: Menghitung koordinat y dari sudut kanan bawah bounding box. Ini didapat dengan menjumlahkan nilai `y` (koordinat kiri atas) dengan `h` (tinggi bounding box).\n",
    "\n",
    "```python\n",
    "cv2.rectangle(single_img, (x, y), (x2, y2), (255, 0, 0), 5)\n",
    "```\n",
    "- **`cv2.rectangle(single_img, (x, y), (x2, y2), (255, 0, 0), 5)`**:\n",
    "  - Ini menggunakan OpenCV (`cv2`) untuk menggambar kotak persegi panjang (bounding box) di sekitar wajah yang terdeteksi.\n",
    "  - **`single_img`**: Gambar tempat kotak akan digambar.\n",
    "  - **`(x, y)`**: Titik sudut kiri atas dari bounding box (posisi awal persegi).\n",
    "  - **`(x2, y2)`**: Titik sudut kanan bawah dari bounding box (posisi akhir persegi).\n",
    "  - **`(255, 0, 0)`**: Warna persegi panjang dalam format BGR (Biru, Hijau, Merah), di mana (255, 0, 0) berarti biru.\n",
    "  - **`5`**: Ketebalan garis persegi panjang.\n",
    "\n",
    "Jadi, baris ini menggambar kotak biru dengan ketebalan garis 5 pixel di sekitar wajah yang terdeteksi pada gambar."
   ]
  },
  {
   "cell_type": "markdown",
   "metadata": {},
   "source": [
    "Bagian rambut dari subject tidak tercover oleh bounding box, bagaimana menyesuaikannya? Yang perlu diubah adalah `y` dan `h`."
   ]
  },
  {
   "cell_type": "code",
   "execution_count": null,
   "metadata": {},
   "outputs": [],
   "source": [
    "single_img = frames_array_rgb[1].copy()\n",
    "faces = detector(single_img, 1)\n",
    "for i, face in enumerate(faces): # untuk setiap wajah yang terdeteksi (bisa saja lebih dari satu)\n",
    "    x, y, w, h = face.left(), face.top(), face.width(), face.height()\n",
    "    print(f\"x,y,w,h: {x, y, w, h}\")\n",
    "    \n",
    "    y_edit = int(y - (0.5 * y))\n",
    "    h_edit = int(h + (0.5 * h))\n",
    "    print(f\"x,y_edit,w,h_edit: {x, y_edit, w, h_edit}\")\n",
    "    \n",
    "    cv2.rectangle(single_img, (x, y_edit), (x2, y_edit + h_edit), (0, 255, 0), 5)\n",
    "\n",
    "plt.figure(figsize=(5, 5))\n",
    "plt.imshow(single_img)\n",
    "plt.axis('off')\n",
    "plt.show()"
   ]
  },
  {
   "cell_type": "markdown",
   "metadata": {},
   "source": [
    "**Tugas Hands-on 3**\n",
    "\n",
    "4. Berdasarkan ROI Wajah, sesuaikanlah ROI tersebut untuk menyeleksi area bahu hingga dada."
   ]
  },
  {
   "cell_type": "markdown",
   "metadata": {},
   "source": [
    "### Mendeteksi Wajah pada Video"
   ]
  },
  {
   "cell_type": "code",
   "execution_count": 2,
   "metadata": {},
   "outputs": [
    {
     "name": "stderr",
     "output_type": "stream",
     "text": [
      "2024-10-17 17:12:55.526 python[27777:789963] +[IMKClient subclass]: chose IMKClient_Legacy\n",
      "2024-10-17 17:12:55.526 python[27777:789963] +[IMKInputSession subclass]: chose IMKInputSession_Legacy\n"
     ]
    },
    {
     "ename": "KeyboardInterrupt",
     "evalue": "",
     "output_type": "error",
     "traceback": [
      "\u001b[0;31m---------------------------------------------------------------------------\u001b[0m",
      "\u001b[0;31mKeyboardInterrupt\u001b[0m                         Traceback (most recent call last)",
      "Cell \u001b[0;32mIn[2], line 14\u001b[0m\n\u001b[1;32m     11\u001b[0m     \u001b[38;5;28;01mbreak\u001b[39;00m\n\u001b[1;32m     13\u001b[0m \u001b[38;5;66;03m### PROSES SETIAP FRAME DISINI ###\u001b[39;00m\n\u001b[0;32m---> 14\u001b[0m faces \u001b[38;5;241m=\u001b[39m \u001b[43mdetector\u001b[49m\u001b[43m(\u001b[49m\u001b[43mframe\u001b[49m\u001b[43m,\u001b[49m\u001b[43m \u001b[49m\u001b[38;5;241;43m1\u001b[39;49m\u001b[43m)\u001b[49m\n\u001b[1;32m     15\u001b[0m \u001b[38;5;28;01mfor\u001b[39;00m i, face \u001b[38;5;129;01min\u001b[39;00m \u001b[38;5;28menumerate\u001b[39m(faces): \u001b[38;5;66;03m# untuk setiap wajah yang terdeteksi (bisa saja lebih dari satu)\u001b[39;00m\n\u001b[1;32m     16\u001b[0m     x, y, w, h \u001b[38;5;241m=\u001b[39m face\u001b[38;5;241m.\u001b[39mleft(), face\u001b[38;5;241m.\u001b[39mtop(), face\u001b[38;5;241m.\u001b[39mwidth(), face\u001b[38;5;241m.\u001b[39mheight()\n",
      "\u001b[0;31mKeyboardInterrupt\u001b[0m: "
     ]
    },
    {
     "ename": "",
     "evalue": "",
     "output_type": "error",
     "traceback": [
      "\u001b[1;31mThe Kernel crashed while executing code in the current cell or a previous cell. \n",
      "\u001b[1;31mPlease review the code in the cell(s) to identify a possible cause of the failure. \n",
      "\u001b[1;31mClick <a href='https://aka.ms/vscodeJupyterKernelCrash'>here</a> for more info. \n",
      "\u001b[1;31mView Jupyter <a href='command:jupyter.viewOutput'>log</a> for further details."
     ]
    }
   ],
   "source": [
    "VID_PATH = os.path.join(os.getcwd(), 'data', 'toby-rgb.mp4')\n",
    "detector = dlib.get_frontal_face_detector()\n",
    "\n",
    "cap = cv2.VideoCapture(VID_PATH)\n",
    "fps = 30\n",
    "delay = int(1000 / fps)\n",
    "\n",
    "while True:\n",
    "    ret, frame = cap.read()\n",
    "    if not ret:\n",
    "        break\n",
    "    \n",
    "    ### PROSES SETIAP FRAME DISINI ###\n",
    "    faces = detector(frame, 1)\n",
    "    for i, face in enumerate(faces): # untuk setiap wajah yang terdeteksi (bisa saja lebih dari satu)\n",
    "        x, y, w, h = face.left(), face.top(), face.width(), face.height()\n",
    "        cv2.rectangle(frame, (x, y), (x + w, y + h), (255, 0, 0), 2)\n",
    "    \n",
    "    ### AKHIR DARI PEMROSESAN TIAP FRAME ###\n",
    "    \n",
    "    cv2.imshow('Video', frame)\n",
    "    \n",
    "    if cv2.waitKey(delay) & 0xFF == ord('q'):\n",
    "        break\n",
    "\n",
    "cap.release()\n",
    "cv2.destroyAllWindows()"
   ]
  },
  {
   "cell_type": "markdown",
   "metadata": {},
   "source": [
    "---\n",
    "## Catatan\n",
    "- Dikarenakan banyak file yang berukuran besar seperti video dan gambar, tampaknya beberapa orang akan mengalami kendala ketika mensinkronkan dengan github\n",
    "- Oleh karena itu, file video dan gambar tidak wajib diupload ke github. Anda dapat melakukan upload ke google drive dan memuatnya di Jupyter Notebook. Anda dapat menggunakan library `gdown`. [Cek tutorial berikut](https://www.youtube.com/watch?v=tKM95YWBc0o&t=630s)."
   ]
  }
 ],
 "metadata": {
  "kernelspec": {
   "display_name": "py310_ifitera",
   "language": "python",
   "name": "python3"
  },
  "language_info": {
   "codemirror_mode": {
    "name": "ipython",
    "version": 3
   },
   "file_extension": ".py",
   "mimetype": "text/x-python",
   "name": "python",
   "nbconvert_exporter": "python",
   "pygments_lexer": "ipython3",
   "version": "3.10.14"
  }
 },
 "nbformat": 4,
 "nbformat_minor": 2
}
