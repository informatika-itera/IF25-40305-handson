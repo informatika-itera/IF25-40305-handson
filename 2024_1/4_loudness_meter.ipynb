{
 "cells": [
  {
   "cell_type": "markdown",
   "metadata": {},
   "source": [
    "## Mengimpor Library"
   ]
  },
  {
   "cell_type": "code",
   "execution_count": 1,
   "metadata": {},
   "outputs": [],
   "source": [
    "import matplotlib.pyplot as plt\n",
    "import numpy as np\n",
    "import wave\n",
    "import os"
   ]
  },
  {
   "cell_type": "markdown",
   "metadata": {},
   "source": [
    "## Memuat Audio"
   ]
  },
  {
   "cell_type": "code",
   "execution_count": 2,
   "metadata": {},
   "outputs": [],
   "source": [
    "file_path = os.path.join(os.getcwd(), 'data', 'ImperialMarch60.wav')\n",
    "\n",
    "with wave.open(file_path, 'r') as wav_file:\n",
    "    n_channels = wav_file.getnchannels()\n",
    "    sampwidth = wav_file.getsampwidth()\n",
    "    framerate = wav_file.getframerate()\n",
    "    n_frames = wav_file.getnframes()\n",
    "    audio_content = wav_file.readframes(n_frames)\n",
    "    audio_data = np.frombuffer(audio_content, dtype=np.int16)\n",
    "    \n",
    "    if n_channels > 1:\n",
    "        audio_data = audio_data.reshape(-1, n_channels)\n",
    "        \n",
    "# trim audio_data from 0 to 30 karena bagian akhir audio memiliki amplitude yang kecil\n",
    "start_time = 0\n",
    "end_time = 30\n",
    "\n",
    "start_sample = int(start_time * framerate)\n",
    "end_sample = int(end_time * framerate)\n",
    "\n",
    "audio_data = audio_data[start_sample:end_sample]"
   ]
  },
  {
   "cell_type": "markdown",
   "metadata": {},
   "source": [
    "## Audio Loudness"
   ]
  },
  {
   "cell_type": "markdown",
   "metadata": {},
   "source": [
    "Tutorial ini mencakup pengukuran dasar dbFS, RMS, True Peak, dan LUFS untuk analisis audio. Kita akan mengimplementasikan setiap pengukuran langkah demi langkah menggunakan numpy dan pustaka Python dasar.\n",
    "\n",
    "Selanjutnya, mari kita ubah audio menjadi float32 dan normalisasi:"
   ]
  },
  {
   "cell_type": "code",
   "execution_count": 3,
   "metadata": {},
   "outputs": [],
   "source": [
    "audio_float = audio_data.astype(np.float32) / np.iinfo(np.int16).max"
   ]
  },
  {
   "cell_type": "markdown",
   "metadata": {},
   "source": [
    "Penjelasan:\n",
    "- Kita mengubah data audio menjadi float32 untuk perhitungan yang lebih presisi.\n",
    "- Kita menormalisasi nilai dengan membagi dengan nilai maksimum yang mungkin untuk integer 16-bit (32767).\n"
   ]
  },
  {
   "cell_type": "markdown",
   "metadata": {},
   "source": [
    "### Menghitung dbFS"
   ]
  },
  {
   "cell_type": "code",
   "execution_count": 4,
   "metadata": {},
   "outputs": [
    {
     "name": "stdout",
     "output_type": "stream",
     "text": [
      "Amplitudo puncak dalam dbFS: -3.34\n"
     ]
    }
   ],
   "source": [
    "peak_amplitude = np.max(np.abs(audio_float))\n",
    "dbfs = 20 * np.log10(peak_amplitude)\n",
    "print(f\"Amplitudo puncak dalam dbFS: {dbfs:.2f}\")"
   ]
  },
  {
   "cell_type": "markdown",
   "metadata": {},
   "source": [
    "Penjelasan:\n",
    "- Kita mencari nilai absolut maksimum dalam data audio, yang mewakili amplitudo puncak.\n",
    "- Kita mengubah ini menjadi desibel menggunakan rumus: 20 * log10(amplitudo).\n",
    "- Hasilnya adalah amplitudo puncak dalam dbFS."
   ]
  },
  {
   "cell_type": "markdown",
   "metadata": {},
   "source": [
    "### Menghitung RMS\n",
    "\n"
   ]
  },
  {
   "cell_type": "code",
   "execution_count": 5,
   "metadata": {},
   "outputs": [
    {
     "name": "stdout",
     "output_type": "stream",
     "text": [
      "Level RMS: 0.1081\n",
      "Level RMS dalam dB: -19.32 dB\n"
     ]
    }
   ],
   "source": [
    "squared_audio = np.square(audio_float)\n",
    "mean_squared = np.mean(squared_audio)\n",
    "rms = np.sqrt(mean_squared)\n",
    "rms_db = 20 * np.log10(rms)\n",
    "print(f\"Level RMS: {rms:.4f}\")\n",
    "print(f\"Level RMS dalam dB: {rms_db:.2f} dB\")"
   ]
  },
  {
   "cell_type": "markdown",
   "metadata": {},
   "source": [
    "Penjelasan:\n",
    "- Kita mengkuadratkan semua nilai dalam data audio.\n",
    "- Kita menghitung rata-rata dari nilai-nilai yang dikuadratkan ini.\n",
    "- Kita mengambil akar kuadrat dari rata-rata ini untuk mendapatkan nilai RMS.\n",
    "- Kita mengubah RMS menjadi desibel menggunakan rumus yang sama seperti sebelumnya.\n"
   ]
  },
  {
   "cell_type": "markdown",
   "metadata": {},
   "source": [
    "### Menghitung True Peak"
   ]
  },
  {
   "cell_type": "code",
   "execution_count": 6,
   "metadata": {},
   "outputs": [
    {
     "name": "stdout",
     "output_type": "stream",
     "text": [
      "Level True Peak: -15.38 dB\n"
     ]
    }
   ],
   "source": [
    "# Upsample dengan faktor 4 menggunakan numpy\n",
    "audio_upsampled = np.zeros(len(audio_float) * 4)\n",
    "audio_upsampled[::4] = audio_float\n",
    "audio_upsampled = np.convolve(audio_upsampled, np.ones(4)/4, mode='same')\n",
    "\n",
    "true_peak = np.max(np.abs(audio_upsampled))\n",
    "true_peak_db = 20 * np.log10(true_peak)\n",
    "print(f\"Level True Peak: {true_peak_db:.2f} dB\")"
   ]
  },
  {
   "cell_type": "markdown",
   "metadata": {},
   "source": [
    "Penjelasan:\n",
    "- Kita membuat array 4 kali ukuran audio asli, menempatkan sampel asli setiap posisi ke-4.\n",
    "- Kita menggunakan filter rata-rata bergerak sederhana untuk menginterpolasi audio yang di-upsample.\n",
    "- Kita mencari nilai absolut maksimum dalam audio yang di-upsample ini, yang merupakan True Peak.\n",
    "- Kita mengubah ini menjadi desibel."
   ]
  },
  {
   "cell_type": "markdown",
   "metadata": {},
   "source": [
    "### Menghitung LUFS (disederhanakan)"
   ]
  },
  {
   "cell_type": "code",
   "execution_count": 7,
   "metadata": {},
   "outputs": [
    {
     "name": "stdout",
     "output_type": "stream",
     "text": [
      "LUFS: -18.65\n"
     ]
    }
   ],
   "source": [
    "b = np.array([1.53512485958697, -2.69169618940638, 1.19839281085285])\n",
    "a = np.array([1.0, -1.69065929318241, 0.73248077421585])\n",
    "filtered_audio = np.zeros_like(audio_float)\n",
    "for i in range(len(audio_float)):\n",
    "    if i < 2:\n",
    "        filtered_audio[i] = audio_float[i]\n",
    "    else:\n",
    "        filtered_audio[i] = (b[0] * audio_float[i] + b[1] * audio_float[i-1] + b[2] * audio_float[i-2]\n",
    "                             - a[1] * filtered_audio[i-1] - a[2] * filtered_audio[i-2]) / a[0]\n",
    "\n",
    "# Hitung mean square\n",
    "ms = np.mean(np.square(filtered_audio))\n",
    "\n",
    "# LUFS\n",
    "lufs = -0.691 + 10 * np.log10(ms)\n",
    "print(f\"LUFS: {lufs:.2f}\")"
   ]
  },
  {
   "cell_type": "markdown",
   "metadata": {},
   "source": [
    "Penjelasan:\n",
    "- Kita mengimplementasikan filter K-weighting yang disederhanakan menggunakan koefisien yang telah dihitung sebelumnya.\n",
    "- Kita menerapkan filter ini ke data audio kita menggunakan implementasi dasar dari filter digital.\n",
    "- Kita menghitung mean square dari audio yang telah difilter.\n",
    "- Kita menghitung LUFS menggunakan rumus: -0.691 + 10 * log10(mean square).\n",
    "\n",
    "Perhitungan LUFS yang disederhanakan ini adalah pendekatan dan tidak mencakup semua kompleksitas standar ITU-R BS.1770 resmi, tetapi memberikan gambaran umum tentang tingkat kekerasan suara.\n"
   ]
  },
  {
   "cell_type": "markdown",
   "metadata": {},
   "source": [
    "### Ringkasan"
   ]
  },
  {
   "cell_type": "code",
   "execution_count": 8,
   "metadata": {},
   "outputs": [
    {
     "name": "stdout",
     "output_type": "stream",
     "text": [
      "\n",
      "Ringkasan pengukuran kekerasan suara:\n",
      "Amplitudo puncak (dbFS): -3.34\n",
      "Level RMS (dB): -19.32\n",
      "Level True Peak (dB): -15.38\n",
      "LUFS Terintegrasi: -18.65\n"
     ]
    }
   ],
   "source": [
    "print(\"\\nRingkasan pengukuran kekerasan suara:\")\n",
    "print(f\"Amplitudo puncak (dbFS): {dbfs:.2f}\")\n",
    "print(f\"Level RMS (dB): {rms_db:.2f}\")\n",
    "print(f\"Level True Peak (dB): {true_peak_db:.2f}\")\n",
    "print(f\"LUFS Terintegrasi: {lufs:.2f}\")"
   ]
  },
  {
   "cell_type": "markdown",
   "metadata": {},
   "source": [
    "### Daftar LUFS Standar\n",
    "\n",
    "- Spotify: -14 LUFS (integrated)\n",
    "- Apple Music: -16 LUFS (integrated)\n",
    "- YouTube: -14 LUFS (integrated)\n",
    "- Tidal: -14 LUFS (integrated)\n",
    "- Amazon Music: -14 LUFS (integrated)\n",
    "- Deezer: -15 LUFS (integrated)"
   ]
  },
  {
   "cell_type": "markdown",
   "metadata": {},
   "source": [
    "---\n",
    "\n",
    "## Tugas: `ho1`\n",
    "5. Dengan menggunakan file audio yang anda rekam untuk mengerjakan tugas nomor 4, lakukanlah normalisasi hingga loudness LUFS mencapai -14 LUFS. Berikan penjelasan langkah-langkah yang anda lakukan untuk menyelesaikan tugas ini.\n",
    "\n",
    "### Ketentuan Penamaan File\n",
    "```\n",
    "nim_ho1.ipynb\n",
    "```\n",
    "\n",
    "> Saya sudah mendapatkan akses ke server [MOSS Stanford](https://theory.stanford.edu/~aiken/moss/) untuk menggunakan sistem mereka dalam mata kuliah ini untuk mendeteksi code yang \"plagiat\". Untuk menjamin bahwa code anda tidak terindikasi plagiarisme, silahkan gunakan nama variabel / parameter / dan konfigurasi yang unik dan tidak copy paste. Dan yang terpenting, berusahalah bekerja sendiri. Jika mendapat bantuan baik dari manusia maupun AI / web, segera cantumkan dalam bagian terakhir `ipynb` anda.\n",
    "\n",
    "### Pengumpulan\n",
    "- Unggah `.ipynb` ke repositori anda.\n",
    "- Paste link dari file ke google form pengumpulan tugas\n",
    "- Export `.ipynb` menjadi `.pdf` dan unggah juga ke google form\n",
    "\n",
    "Link yang di paste harus mirip dengan format berikut:\n",
    "```\n",
    "https://github.com/<username>/<kode_mk>/blob/master/<nim_ho1>.ipynb\n",
    "```\n",
    "\n",
    "- *Pastikan repo anda bersifat privat dan anda telah mengundang dosen pengampu ke repositori anda*\n",
    "- Seluruh tugas untuk ho1 digabung dalam satu file notebook `.ipynb`\n",
    "- Berikan penjelasan yang sedetail-detailnya untuk setiap bagian eksperimen yang anda lakukan"
   ]
  }
 ],
 "metadata": {
  "kernelspec": {
   "display_name": "py310_ifcourse",
   "language": "python",
   "name": "python3"
  },
  "language_info": {
   "codemirror_mode": {
    "name": "ipython",
    "version": 3
   },
   "file_extension": ".py",
   "mimetype": "text/x-python",
   "name": "python",
   "nbconvert_exporter": "python",
   "pygments_lexer": "ipython3",
   "version": "3.10.14"
  }
 },
 "nbformat": 4,
 "nbformat_minor": 2
}
